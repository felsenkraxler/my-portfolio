{
 "cells": [
  {
   "cell_type": "markdown",
   "metadata": {},
   "source": [
    "AWS"
   ]
  },
  {
   "cell_type": "code",
   "execution_count": 2,
   "metadata": {},
   "outputs": [],
   "source": [
    "import boto3                                                            "
   ]
  },
  {
   "cell_type": "code",
   "execution_count": 3,
   "metadata": {},
   "outputs": [],
   "source": [
    "session = boto3.Session(profile_name='eiskraxlerportfolio')"
   ]
  },
  {
   "cell_type": "code",
   "execution_count": null,
   "metadata": {},
   "outputs": [],
   "source": [
    "#s3=session.client('s3')"
   ]
  },
  {
   "cell_type": "code",
   "execution_count": null,
   "metadata": {},
   "outputs": [],
   "source": [
    "#response=s3.list_buckets() "
   ]
  },
  {
   "cell_type": "code",
   "execution_count": null,
   "metadata": {},
   "outputs": [],
   "source": [
    "#print('Existing buckets:')\n",
    "#for bucket in response['Buckets']: \n",
    "#    print(f'  {bucket[\"Name\"]}') "
   ]
  },
  {
   "cell_type": "code",
   "execution_count": 4,
   "metadata": {},
   "outputs": [],
   "source": [
    "s3bucket = session.resource('s3')"
   ]
  },
  {
   "cell_type": "code",
   "execution_count": 6,
   "metadata": {},
   "outputs": [],
   "source": [
    "portfolio_bucket=s3bucket.Bucket('portfolio.stefanbauer.solutions')"
   ]
  },
  {
   "cell_type": "code",
   "execution_count": 7,
   "metadata": {},
   "outputs": [
    {
     "name": "stdout",
     "output_type": "stream",
     "text": [
      "favicon.ico\n",
      "images/\n",
      "images/example1.png\n",
      "images/example2.png\n",
      "images/example3.png\n",
      "index.html\n",
      "styles/\n",
      "styles/main.css\n"
     ]
    }
   ],
   "source": [
    "for obj in portfolio_bucket.objects.all():\n",
    "    print(obj.key)"
   ]
  },
  {
   "cell_type": "markdown",
   "metadata": {},
   "source": [
    "To download a file"
   ]
  },
  {
   "cell_type": "code",
   "execution_count": 9,
   "metadata": {},
   "outputs": [],
   "source": [
    "portfolio_bucket.download_file('index.html','/home/stefan/inddex.html')"
   ]
  },
  {
   "cell_type": "markdown",
   "metadata": {},
   "source": [
    "TO Build Bucket"
   ]
  },
  {
   "cell_type": "code",
   "execution_count": 19,
   "metadata": {},
   "outputs": [],
   "source": [
    "build_bucket=s3bucket.Bucket('portfoliobuild.stefanbauer.solutions')"
   ]
  },
  {
   "cell_type": "code",
   "execution_count": 20,
   "metadata": {},
   "outputs": [],
   "source": [
    "build_bucket.download_file('portfoliobuild.zip','/home/stefan/portfoliobuild.zip')"
   ]
  },
  {
   "cell_type": "code",
   "execution_count": 21,
   "metadata": {},
   "outputs": [],
   "source": [
    "import io"
   ]
  },
  {
   "cell_type": "code",
   "execution_count": 24,
   "metadata": {},
   "outputs": [],
   "source": [
    "portfolio_zip=io.BytesIO()"
   ]
  },
  {
   "cell_type": "code",
   "execution_count": 25,
   "metadata": {},
   "outputs": [],
   "source": [
    "build_bucket.download_fileobj('portfoliobuild.zip', portfolio_zip)"
   ]
  },
  {
   "cell_type": "code",
   "execution_count": 26,
   "metadata": {},
   "outputs": [],
   "source": [
    "import zipfile"
   ]
  },
  {
   "cell_type": "code",
   "execution_count": 27,
   "metadata": {},
   "outputs": [
    {
     "name": "stdout",
     "output_type": "stream",
     "text": [
      "index.html\n",
      "favicon.ico\n",
      "styles/main.css\n",
      "images/example2.png\n",
      "images/example1.png\n",
      "images/example3.png\n"
     ]
    }
   ],
   "source": [
    "with zipfile.ZipFile(portfolio_zip) as myzip:\n",
    "    for nm in myzip.namelist():\n",
    "        print(nm)"
   ]
  },
  {
   "cell_type": "code",
   "execution_count": 30,
   "metadata": {},
   "outputs": [],
   "source": [
    "with zipfile.ZipFile(portfolio_zip) as myzip:\n",
    "    for nm in myzip.namelist():\n",
    "        obj=myzip.open(nm)\n",
    "        portfolio_bucket.upload_fileobj(obj,nm)\n",
    "        portfolio_bucket.Object(nm).Acl().put(ACL='public-read')"
   ]
  },
  {
   "cell_type": "code",
   "execution_count": 31,
   "metadata": {},
   "outputs": [
    {
     "name": "stdout",
     "output_type": "stream",
     "text": [
      "#s3bucket=boto3.resource('s3')\n",
      "import boto3\n",
      "session = boto3.Session(profile_name='eiskraxlerportfolio')\n",
      "s3bucket = session.resource('s3')\n",
      "portfolio_bucket=s3.Bucket('portfolio.stefanbauer.solutions')\n",
      "portfolio_bucket=s3bucket.Bucket('portfolio.stefanbauer.solutions')\n",
      "for obj in portfolio_bucket.objects.all():\n",
      "    print(obj.key)\n",
      "portfolio_bucket.download_file('index.html','~/inddex.html')\n",
      "portfolio_bucket.download_file('index.html','/home/stefan/inddex.html')\n",
      "build_bucket=s3bucket.Bucket('portfoliobuild.stefanbauer.solutions')\n",
      "build_bucket.download_file('portfoliobuild.zip','/home/stefan/portfoliobuild.zip')\n",
      "build_bucket.download_file('portfoliobuild.zip','/home/stefan/portfoliobuild.zip')\n",
      "build_bucket.download_file('portfoliobuild.zip','/home/stefan/portfoliobuild.zip')\n",
      "import StringIO\n",
      "import io\n",
      "portfolio_zip=io.StringIO.StringIO()\n",
      "portfolio_zip=io.StringIO()\n",
      "build_bucket.download_fileobj('portfoliobuild.zip', portfolio_zip)\n",
      "build_bucket=s3bucket.Bucket('portfoliobuild.stefanbauer.solutions')\n",
      "build_bucket.download_file('portfoliobuild.zip','/home/stefan/portfoliobuild.zip')\n",
      "import io\n",
      "portfolio_zip=io.StringIO()\n",
      "build_bucket.download_fileobj('portfoliobuild.zip', portfolio_zip)\n",
      "portfolio_zip=io.BytesIO()\n",
      "build_bucket.download_fileobj('portfoliobuild.zip', portfolio_zip)\n",
      "import zipfile\n",
      "with zipfile.ZipFile(portfolio_zip) as myzip:\n",
      "    for nm in myzip.namelist():\n",
      "        print(nm)\n",
      "with zipfile.ZipFile(portfolio_zip) as myzip:\n",
      "    for nm in myzip.namelist():\n",
      "        obj=myzip.open(nm)\n",
      "        portfolio_bucket.upload_fileobj(obj,nm)\n",
      "with zipfile.ZipFile(portfolio_zip) as myzip:\n",
      "    for nm in myzip.namelist():\n",
      "        obj=myzip.open(nm)\n",
      "        portfolio_bucket.upload_fileobj(obj,nm)\n",
      "with zipfile.ZipFile(portfolio_zip) as myzip:\n",
      "    for nm in myzip.namelist():\n",
      "        obj=myzip.open(nm)\n",
      "        portfolio_bucket.upload_fileobj(obj,nm)\n",
      "        portfolio_bucket.Object(nm).Acl().put(ACL='public-read')\n",
      "%history\n"
     ]
    }
   ],
   "source": [
    "%history"
   ]
  },
  {
   "cell_type": "markdown",
   "metadata": {},
   "source": [
    "SNS"
   ]
  },
  {
   "cell_type": "code",
   "execution_count": 34,
   "metadata": {},
   "outputs": [],
   "source": [
    "import boto3"
   ]
  },
  {
   "cell_type": "code",
   "execution_count": 35,
   "metadata": {},
   "outputs": [],
   "source": [
    "session = boto3.Session(profile_name='eiskraxlerportfolio')"
   ]
  },
  {
   "cell_type": "code",
   "execution_count": 33,
   "metadata": {},
   "outputs": [
    {
     "ename": "SyntaxError",
     "evalue": "EOL while scanning string literal (<ipython-input-33-30d48991dd6f>, line 2)",
     "output_type": "error",
     "traceback": [
      "\u001b[0;36m  File \u001b[0;32m\"<ipython-input-33-30d48991dd6f>\"\u001b[0;36m, line \u001b[0;32m2\u001b[0m\n\u001b[0;31m    topic=sns.Topic('arn:aws:sns:us-east-1:524339592450:deployPorfolioTopic\u001b[0m\n\u001b[0m                                                                           ^\u001b[0m\n\u001b[0;31mSyntaxError\u001b[0m\u001b[0;31m:\u001b[0m EOL while scanning string literal\n"
     ]
    }
   ],
   "source": [
    "#sns = boto3.resource('sns')\n",
    "sns = session.resource('sns')\n",
    "topic=sns.Topic('arn:aws:sns:us-east-1:524339592450:deployPorfolioTopic\n",
    "')"
   ]
  },
  {
   "cell_type": "code",
   "execution_count": null,
   "metadata": {},
   "outputs": [],
   "source": []
  }
 ],
 "metadata": {
  "kernelspec": {
   "display_name": "Python 3",
   "language": "python",
   "name": "python3"
  },
  "language_info": {
   "codemirror_mode": {
    "name": "ipython",
    "version": 3
   },
   "file_extension": ".py",
   "mimetype": "text/x-python",
   "name": "python",
   "nbconvert_exporter": "python",
   "pygments_lexer": "ipython3",
   "version": "3.7.4"
  }
 },
 "nbformat": 4,
 "nbformat_minor": 4
}
